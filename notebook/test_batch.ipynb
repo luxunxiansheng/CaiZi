{
 "cells": [
  {
   "cell_type": "code",
   "execution_count": null,
   "metadata": {},
   "outputs": [],
   "source": [
    "import ray\n",
    "ds = ray.data.from_items([\n",
    "    {\"food\": \"spam1\", \"price\": 19.34},\n",
    "    {\"food\": \"ham1\", \"price\": 15.37},\n",
    "    {\"food\": \"eggs1\", \"price\": 10.94},\n",
    "    {\"food\": \"spam2\", \"price\": 29.34},\n",
    "    {\"food\": \"ham2\", \"price\": 25.37},\n",
    "    {\"food\": \"eggs2\", \"price\": 20.94},\n",
    "    {\"food\": \"spam3\", \"price\": 39.34},\n",
    "    {\"food\": \"ham3\", \"price\": 35.37},\n",
    "    {\"food\": \"eggs3\", \"price\": 30.94},\n",
    "    {\"food\": \"spam4\", \"price\": 49.34},\n",
    "    {\"food\": \"ham4\", \"price\": 45.37},\n",
    "    {\"food\": \"eggs4\", \"price\": 40.94}\n",
    "])\n",
    "\n"
   ]
  },
  {
   "cell_type": "code",
   "execution_count": null,
   "metadata": {},
   "outputs": [],
   "source": [
    "\n",
    "\n",
    "iteable= ds.iterator()\n",
    "bachtes=  iteable.iter_batches(batch_size=6)\n",
    "\n",
    "group_size = 3\n",
    "\n",
    "for batch in bachtes:\n",
    "    food = batch[\"food\"]\n",
    "    price = batch[\"price\"]\n",
    "    \n",
    "    for i in range(0, len(food), group_size):\n",
    "        print(food[i:i+group_size])\n",
    "        print(\"\")\n",
    "\n"
   ]
  }
 ],
 "metadata": {
  "kernelspec": {
   "display_name": "base",
   "language": "python",
   "name": "python3"
  },
  "language_info": {
   "codemirror_mode": {
    "name": "ipython",
    "version": 3
   },
   "file_extension": ".py",
   "mimetype": "text/x-python",
   "name": "python",
   "nbconvert_exporter": "python",
   "pygments_lexer": "ipython3",
   "version": "3.10.14"
  }
 },
 "nbformat": 4,
 "nbformat_minor": 2
}
