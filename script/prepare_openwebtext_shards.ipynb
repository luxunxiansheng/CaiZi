{
 "cells": [
  {
   "cell_type": "code",
   "execution_count": null,
   "metadata": {},
   "outputs": [],
   "source": [
    "import os\n",
    "project_root = os.path.dirname(os.getcwd())\n",
    "import sys\n",
    "# Add the directory to the Python path\n",
    "sys.path.append(f\"{project_root}/src\")\n",
    "\n",
    "\n",
    "from pathlib import Path\n",
    "import shutil\n",
    "from datasets import load_dataset\n",
    "from config import gpt2_cfg as cfg "
   ]
  },
  {
   "cell_type": "code",
   "execution_count": null,
   "metadata": {},
   "outputs": [],
   "source": [
    "\n",
    "source_path = Path(cfg[\"dataset\"][\"source\"][0][\"path\"])\n",
    "\n",
    "if os.path.exists(source_path):\n",
    "    shutil.rmtree(source_path)\n",
    "    print(f\"The directory {source_path} has been removed.\")\n",
    "else:\n",
    "    print(f\"The directory {source_path} does not exist.\")\n",
    "\n",
    "# remove the shards directory if it exists\n",
    "if source_path.exists():\n",
    "    for file in source_path.iterdir():\n",
    "        file.unlink()\n",
    "    source_path.rmdir()\n",
    "\n",
    " \n"
   ]
  },
  {
   "cell_type": "code",
   "execution_count": null,
   "metadata": {},
   "outputs": [],
   "source": [
    "\n",
    "\n",
    "hf_dataset = load_dataset(\"openwebtext\", split=\"train\")\n",
    "\n",
    "# Step 2: Define the number of shards you want\n",
    "num_shards = 2000\n",
    "shard_size = len(hf_dataset) // num_shards\n",
    "\n",
    "# Step 3: Iterate over shards and save each as a Parquet file\n",
    "for shard_index in range(num_shards):\n",
    "    start = shard_index * shard_size\n",
    "    end = start + shard_size\n",
    "    dataset_shard = hf_dataset.select(range(start, end))\n",
    "    \n",
    "    # Save each shard as a Parquet file\n",
    "    shard_file_path = source_path / f\"shard_{shard_index}.parquet\"\n",
    "    dataset_shard.to_parquet(shard_file_path)"
   ]
  }
 ],
 "metadata": {
  "kernelspec": {
   "display_name": "base",
   "language": "python",
   "name": "python3"
  },
  "language_info": {
   "codemirror_mode": {
    "name": "ipython",
    "version": 3
   },
   "file_extension": ".py",
   "mimetype": "text/x-python",
   "name": "python",
   "nbconvert_exporter": "python",
   "pygments_lexer": "ipython3",
   "version": "3.11.9"
  }
 },
 "nbformat": 4,
 "nbformat_minor": 2
}
