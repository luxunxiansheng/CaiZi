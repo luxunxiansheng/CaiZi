{
 "cells": [
  {
   "cell_type": "code",
   "execution_count": 1,
   "metadata": {},
   "outputs": [],
   "source": [
    "import os\n",
    "project_root = os.path.dirname(os.getcwd())\n",
    "import sys\n",
    "# Add the directory to the Python path\n",
    "sys.path.append(f\"{project_root}/src\")"
   ]
  },
  {
   "cell_type": "code",
   "execution_count": 2,
   "metadata": {},
   "outputs": [],
   "source": [
    "from pathlib import Path\n",
    "import shutil\n",
    "\n",
    "import ray\n",
    "\n",
    "from config import gpt2_nano_cfg as cfg \n",
    "from preprocessor.datasource_processor import DatasourceProcessor\n",
    "from preprocessor.chunk_processor import ChunkProcessor\n",
    "from preprocessor.token_processor import TokenProcessor"
   ]
  },
  {
   "cell_type": "code",
   "execution_count": 3,
   "metadata": {},
   "outputs": [],
   "source": [
    "def generate_chunk_tokn_ids(cfg,source_file_paths,split):\n",
    "    file_path_ds = ray.data.from_items(source_file_paths)\n",
    "    datasource_processor = DatasourceProcessor(source_format=\"txt\")\n",
    "    texts_ds = file_path_ds.map(datasource_processor,\n",
    "                            num_cpus=1,\n",
    "                            concurrency=1)\n",
    "\n",
    "    tokenizer_class = TokenProcessor.create(cfg['ray_data']['tokenizer_class']['name'])\n",
    "    tokenizer_args =  cfg['ray_data']['tokenizer_class']['args']\n",
    "    tokenizer= tokenizer_class(**tokenizer_args)\n",
    "    tokens_ds = texts_ds.map(tokenizer,\n",
    "                               num_cpus=1,\n",
    "                               concurrency=1)\n",
    "    block_size = cfg[\"model\"][\"block_size\"]\n",
    "    stride = cfg[\"model\"][\"stride\"]\n",
    "    chunk_processor = ChunkProcessor(block_size=block_size, stride=stride)\n",
    "    chunked_tokens_ds = tokens_ds.flat_map(chunk_processor,\n",
    "                                  num_cpus=1,\n",
    "                                  concurrency=1)\n",
    "    target_path = Path(cfg[\"dataset\"][\"chunked_tokens\"]).joinpath(split)\n",
    "\n",
    "    if os.path.exists(target_path):\n",
    "        shutil.rmtree(target_path)\n",
    "        print(f\"The directory {target_path} has been removed.\")\n",
    "    else:\n",
    "        print(f\"The directory {target_path} does not exist.\")\n",
    "\n",
    "    chunked_tokens_ds.write_parquet(target_path,concurrency=1)\n"
   ]
  },
  {
   "cell_type": "code",
   "execution_count": 4,
   "metadata": {},
   "outputs": [],
   "source": [
    "source_path = Path(cfg[\"dataset\"][\"path\"])\n",
    "source_file_paths = list(source_path.glob(\"*.txt\"))\n",
    "\n",
    "len = len(source_file_paths)\n",
    "\n",
    "train_ratio = cfg[\"ray_data\"][\"train_ratio\"]\n",
    "\n",
    "train_file_paths = source_file_paths[:int(len*train_ratio)]\n",
    "validate_file_paths = source_file_paths[int(len*train_ratio):]\n"
   ]
  },
  {
   "cell_type": "code",
   "execution_count": 5,
   "metadata": {},
   "outputs": [
    {
     "data": {
      "text/plain": [
       "[PosixPath('/workspaces/CaiZi/dataset/shakespeare_char/input copy 3.txt'),\n",
       " PosixPath('/workspaces/CaiZi/dataset/shakespeare_char/input copy 7.txt')]"
      ]
     },
     "execution_count": 5,
     "metadata": {},
     "output_type": "execute_result"
    }
   ],
   "source": [
    "validate_file_paths"
   ]
  },
  {
   "cell_type": "code",
   "execution_count": 6,
   "metadata": {},
   "outputs": [
    {
     "name": "stderr",
     "output_type": "stream",
     "text": [
      "2024-09-03 04:27:02,506\tINFO worker.py:1598 -- Connecting to existing Ray cluster at address: 192.168.2.113:6379...\n",
      "2024-09-03 04:27:02,510\tINFO worker.py:1774 -- Connected to Ray cluster. View the dashboard at \u001b[1m\u001b[32mhttp://127.0.0.1:8265 \u001b[39m\u001b[22m\n",
      "2024-09-03 04:27:02,550\tINFO streaming_executor.py:108 -- Starting execution of Dataset. Full logs are in /tmp/ray/session_2024-09-03_03-09-33_107155_713028/logs/ray-data\n",
      "2024-09-03 04:27:02,550\tINFO streaming_executor.py:109 -- Execution plan of Dataset: InputDataBuffer[Input] -> TaskPoolMapOperator[Map(DatasourceProcessor)->Map(CharTokenizer)->FlatMap(ChunkProcessor)->Write]\n"
     ]
    },
    {
     "name": "stdout",
     "output_type": "stream",
     "text": [
      "The directory /workspaces/CaiZi/dataset/shakespeare_char/chunked_tokens/train has been removed.\n"
     ]
    },
    {
     "data": {
      "application/vnd.jupyter.widget-view+json": {
       "model_id": "5ca0293cfa394576859a8d711580b0ed",
       "version_major": 2,
       "version_minor": 0
      },
      "text/plain": [
       "Running 0: 0.00 row [00:00, ? row/s]"
      ]
     },
     "metadata": {},
     "output_type": "display_data"
    },
    {
     "data": {
      "application/vnd.jupyter.widget-view+json": {
       "model_id": "3148bfb36821421cbf86769e42de9182",
       "version_major": 2,
       "version_minor": 0
      },
      "text/plain": [
       "- Map(DatasourceProcessor)->Map(CharTokenizer)->FlatMap(ChunkProcessor)->Write 1: 0.00 row [00:00, ? row/s]"
      ]
     },
     "metadata": {},
     "output_type": "display_data"
    },
    {
     "name": "stderr",
     "output_type": "stream",
     "text": [
      "2024-09-03 04:27:02,561\tWARNING progress_bar.py:122 -- Truncating long operator name to 100 characters.To disable this behavior, set `ray.data.DataContext.get_current().DEFAULT_ENABLE_PROGRESS_BAR_NAME_TRUNCATION = False`.\n",
      "2024-09-03 04:27:03,668\tINFO streaming_executor.py:108 -- Starting execution of Dataset. Full logs are in /tmp/ray/session_2024-09-03_03-09-33_107155_713028/logs/ray-data\n",
      "2024-09-03 04:27:03,668\tINFO streaming_executor.py:109 -- Execution plan of Dataset: InputDataBuffer[Input] -> TaskPoolMapOperator[Map(DatasourceProcessor)->Map(CharTokenizer)->FlatMap(ChunkProcessor)->Write]\n"
     ]
    },
    {
     "name": "stdout",
     "output_type": "stream",
     "text": [
      "The directory /workspaces/CaiZi/dataset/shakespeare_char/chunked_tokens/validate does not exist.\n"
     ]
    },
    {
     "data": {
      "application/vnd.jupyter.widget-view+json": {
       "model_id": "bed5575d061041479335a807f3f202aa",
       "version_major": 2,
       "version_minor": 0
      },
      "text/plain": [
       "Running 0: 0.00 row [00:00, ? row/s]"
      ]
     },
     "metadata": {},
     "output_type": "display_data"
    },
    {
     "data": {
      "application/vnd.jupyter.widget-view+json": {
       "model_id": "2a704d2d86ad4e368638254256adc39a",
       "version_major": 2,
       "version_minor": 0
      },
      "text/plain": [
       "- Map(DatasourceProcessor)->Map(CharTokenizer)->FlatMap(ChunkProcessor)->Write 1: 0.00 row [00:00, ? row/s]"
      ]
     },
     "metadata": {},
     "output_type": "display_data"
    }
   ],
   "source": [
    "generate_chunk_tokn_ids(cfg,train_file_paths,\"train\")\n",
    "generate_chunk_tokn_ids(cfg,validate_file_paths,\"validate\")"
   ]
  }
 ],
 "metadata": {
  "kernelspec": {
   "display_name": "base",
   "language": "python",
   "name": "python3"
  },
  "language_info": {
   "codemirror_mode": {
    "name": "ipython",
    "version": 3
   },
   "file_extension": ".py",
   "mimetype": "text/x-python",
   "name": "python",
   "nbconvert_exporter": "python",
   "pygments_lexer": "ipython3",
   "version": "3.11.9"
  }
 },
 "nbformat": 4,
 "nbformat_minor": 2
}
