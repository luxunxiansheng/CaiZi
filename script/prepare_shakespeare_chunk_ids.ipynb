{
 "cells": [
  {
   "cell_type": "code",
   "execution_count": null,
   "metadata": {},
   "outputs": [],
   "source": [
    "import os\n",
    "project_root = os.path.dirname(os.getcwd())\n",
    "import sys\n",
    "# Add the directory to the Python path\n",
    "sys.path.append(f\"{project_root}/src\")"
   ]
  },
  {
   "cell_type": "code",
   "execution_count": null,
   "metadata": {},
   "outputs": [],
   "source": [
    "from pathlib import Path\n",
    "import shutil\n",
    "\n",
    "import ray\n",
    "\n",
    "from config import gpt2_nano_cfg as cfg \n",
    "from preprocessor.datasource_processor import DatasourceProcessor\n",
    "from preprocessor.chunk_processor import ChunkProcessor\n",
    "from preprocessor.token_processor import TokenProcessor"
   ]
  },
  {
   "cell_type": "code",
   "execution_count": null,
   "metadata": {},
   "outputs": [],
   "source": [
    "def generate_chunk_tokn_ids(cfg,source_file_paths,split):\n",
    "    file_path_ds = ray.data.from_items(source_file_paths)\n",
    "    datasource_processor = DatasourceProcessor(source_format=DatasourceProcessor.TEXT)\n",
    "    texts_ds = file_path_ds.map(datasource_processor,\n",
    "                            num_cpus=1,\n",
    "                            concurrency=1)\n",
    "\n",
    "    tokenizer_class = TokenProcessor.create(cfg['ray_data']['tokenizer_class']['name'])\n",
    "    tokenizer_args =  cfg['ray_data']['tokenizer_class']['args']\n",
    "    tokenizer= tokenizer_class(**tokenizer_args)\n",
    "    tokens_ds = texts_ds.map(tokenizer,\n",
    "                               num_cpus=1,\n",
    "                               concurrency=1)\n",
    "    block_size = cfg[\"model\"][\"block_size\"]\n",
    "    stride = cfg[\"model\"][\"stride\"]\n",
    "    chunk_processor = ChunkProcessor(block_size=block_size, stride=stride)\n",
    "    chunked_tokens_ds = tokens_ds.flat_map(chunk_processor,\n",
    "                                  num_cpus=1,\n",
    "                                  concurrency=1)\n",
    "    target_path = Path(cfg[\"dataset\"][\"chunked_tokens\"]).joinpath(split)\n",
    "\n",
    "    if os.path.exists(target_path):\n",
    "        shutil.rmtree(target_path)\n",
    "        print(f\"The directory {target_path} has been removed.\")\n",
    "    else:\n",
    "        print(f\"The directory {target_path} does not exist.\")\n",
    "\n",
    "    chunked_tokens_ds.write_parquet(target_path,concurrency=1)\n"
   ]
  },
  {
   "cell_type": "code",
   "execution_count": null,
   "metadata": {},
   "outputs": [],
   "source": [
    "source_path = Path(cfg[\"dataset\"][\"path\"])\n",
    "source_file_paths = list(source_path.glob(\"*.txt\"))\n",
    "\n",
    "len = len(source_file_paths)\n",
    "\n",
    "train_ratio = cfg[\"ray_data\"][\"train_ratio\"]\n",
    "\n",
    "train_file_paths = source_file_paths[:int(len*train_ratio)]\n",
    "validate_file_paths = source_file_paths[int(len*train_ratio):]\n"
   ]
  },
  {
   "cell_type": "code",
   "execution_count": null,
   "metadata": {},
   "outputs": [],
   "source": [
    "generate_chunk_tokn_ids(cfg,train_file_paths,\"train\")\n",
    "generate_chunk_tokn_ids(cfg,validate_file_paths,\"validate\")"
   ]
  }
 ],
 "metadata": {
  "kernelspec": {
   "display_name": "base",
   "language": "python",
   "name": "python3"
  },
  "language_info": {
   "codemirror_mode": {
    "name": "ipython",
    "version": 3
   },
   "file_extension": ".py",
   "mimetype": "text/x-python",
   "name": "python",
   "nbconvert_exporter": "python",
   "pygments_lexer": "ipython3",
   "version": "3.11.9"
  }
 },
 "nbformat": 4,
 "nbformat_minor": 2
}
