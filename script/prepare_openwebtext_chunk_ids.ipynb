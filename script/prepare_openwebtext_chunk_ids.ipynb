{
 "cells": [
  {
   "cell_type": "code",
   "execution_count": null,
   "metadata": {},
   "outputs": [],
   "source": [
    "import os\n",
    "project_root = os.path.dirname(os.getcwd())\n",
    "import sys\n",
    "# Add the directory to the Python path\n",
    "sys.path.append(f\"{project_root}/src\")"
   ]
  },
  {
   "cell_type": "code",
   "execution_count": null,
   "metadata": {},
   "outputs": [],
   "source": [
    "from pathlib import Path\n",
    "import shutil\n",
    "\n",
    "import ray\n",
    "\n",
    "from config import gpt2_cfg as cfg \n",
    "from preprocessor.datasource_processor import DatasourceProcessor\n",
    "from preprocessor.chunk_processor import ChunkProcessor\n",
    "from preprocessor.token_processor import TokenProcessor"
   ]
  },
  {
   "cell_type": "code",
   "execution_count": null,
   "metadata": {},
   "outputs": [],
   "source": [
    "def generate_chunk_tokn_ids(cfg,source_file_paths,split):\n",
    "    file_path_ds = ray.data.from_items(source_file_paths)\n",
    "    datasource_processor = DatasourceProcessor(source_format=\"parquet\")\n",
    "    texts_ds = file_path_ds.map(datasource_processor,\n",
    "                            num_cpus=2,\n",
    "                            concurrency=2)\n",
    "\n",
    "    tokenizer_class = TokenProcessor.create(cfg['ray_data']['tokenizer_class']['name'])\n",
    "    tokenizer_args =  cfg['ray_data']['tokenizer_class']['args']\n",
    "    tokenizer= tokenizer_class(**tokenizer_args)\n",
    "    tokens_ds = texts_ds.map(tokenizer,\n",
    "                               num_cpus=4,\n",
    "                               concurrency=4)\n",
    "    block_size = cfg[\"model\"][\"block_size\"]\n",
    "    stride = cfg[\"model\"][\"stride\"]\n",
    "    chunk_processor = ChunkProcessor(block_size=block_size, stride=stride)\n",
    "    chunked_tokens_ds = tokens_ds.flat_map(chunk_processor,\n",
    "                                  num_cpus=4,\n",
    "                                  concurrency=4)\n",
    "    target_path = Path(cfg[\"dataset\"][\"chunked_tokens\"]).joinpath(split)\n",
    "\n",
    "    if os.path.exists(target_path):\n",
    "        shutil.rmtree(target_path)\n",
    "        print(f\"The directory {target_path} has been removed.\")\n",
    "    else:\n",
    "        print(f\"The directory {target_path} does not exist.\")\n",
    "\n",
    "    chunked_tokens_ds.write_parquet(target_path,concurrency=8)\n"
   ]
  },
  {
   "cell_type": "code",
   "execution_count": null,
   "metadata": {},
   "outputs": [
    {
     "name": "stderr",
     "output_type": "stream",
     "text": [
      "\u001b[33m(raylet)\u001b[0m *** SIGTERM received at time=1725327154 on cpu 14 ***\n",
      "\u001b[33m(raylet)\u001b[0m PC: @     0x7418dbafa5b4  (unknown)  __open\n",
      "\u001b[33m(raylet)\u001b[0m     @     0x7418dba28520  (unknown)  (unknown)\n",
      "\u001b[33m(raylet)\u001b[0m PC: @     0x7da93462188d  (unknown)  syscall\n",
      "\u001b[33m(raylet)\u001b[0m [2024-09-03 01:32:34,871 E 683310 683310] logging.cc:440: *** SIGTERM received at time=1725327154 on cpu 14 ***\n",
      "\u001b[33m(raylet)\u001b[0m [2024-09-03 01:32:34,871 E 683310 683310] logging.cc:440: PC: @     0x7418dbafa5b4  (unknown)  __open\n",
      "\u001b[33m(raylet)\u001b[0m [2024-09-03 01:32:34,871 E 683310 683310] logging.cc:440:     @     0x7418dba28520  (unknown)  (unknown)\n",
      "[2024-09-03 01:34:34,044 E 558795 560784] core_worker.cc:661: :info_message: Attempting to recover 408 lost objects by resubmitting their tasks. To disable object reconstruction, set @ray.remote(max_retries=0).\n"
     ]
    },
    {
     "name": "stdout",
     "output_type": "stream",
     "text": [
      "\u001b[33m(raylet)\u001b[0m The autoscaler failed with the following error:\n",
      "Terminated with signal 15\n",
      "  File \"/opt/conda/lib/python3.11/site-packages/ray/autoscaler/_private/monitor.py\", line 709, in <module>\n",
      "    monitor.run()\n",
      "  File \"/opt/conda/lib/python3.11/site-packages/ray/autoscaler/_private/monitor.py\", line 584, in run\n",
      "    self._run()\n",
      "  File \"/opt/conda/lib/python3.11/site-packages/ray/autoscaler/_private/monitor.py\", line 438, in _run\n",
      "    time.sleep(AUTOSCALER_UPDATE_INTERVAL_S)\n",
      "\n"
     ]
    }
   ],
   "source": [
    "source_path = Path(cfg[\"dataset\"][\"path\"])\n",
    "source_file_paths = list(source_path.glob(\"*.parquet\"))\n",
    "\n",
    "len = len(source_file_paths)\n",
    "\n",
    "train_ratio = cfg[\"ray_data\"][\"train_ratio\"]\n",
    "\n",
    "train_file_paths = source_file_paths[:int(len*train_ratio)]\n",
    "validate_file_paths = source_file_paths[int(len*train_ratio):]\n",
    "\n",
    "generate_chunk_tokn_ids(cfg,train_file_paths,\"train\")\n",
    "generate_chunk_tokn_ids(cfg,validate_file_paths,\"validate\")\n",
    "\n"
   ]
  }
 ],
 "metadata": {
  "kernelspec": {
   "display_name": "base",
   "language": "python",
   "name": "python3"
  },
  "language_info": {
   "codemirror_mode": {
    "name": "ipython",
    "version": 3
   },
   "file_extension": ".py",
   "mimetype": "text/x-python",
   "name": "python",
   "nbconvert_exporter": "python",
   "pygments_lexer": "ipython3",
   "version": "3.11.9"
  }
 },
 "nbformat": 4,
 "nbformat_minor": 2
}
