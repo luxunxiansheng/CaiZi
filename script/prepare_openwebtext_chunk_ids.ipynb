{
 "cells": [
  {
   "cell_type": "code",
   "execution_count": 1,
   "metadata": {},
   "outputs": [],
   "source": [
    "import os\n",
    "project_root = os.path.dirname(os.getcwd())\n",
    "import sys\n",
    "# Add the directory to the Python path\n",
    "sys.path.append(f\"{project_root}/src\")"
   ]
  },
  {
   "cell_type": "code",
   "execution_count": 2,
   "metadata": {},
   "outputs": [],
   "source": [
    "from pathlib import Path\n",
    "\n",
    "import ray\n",
    "from datasets import load_from_disk,load_dataset\n",
    "\n",
    "from config import gpt2_cfg as cfg \n",
    "from datasource_processor import DatasourceProcessor\n",
    "from text_split_processor import TextSplitProcessor\n",
    "from chunk_processor import ChunkProcessor\n",
    "from token_processor import TokenProcessor\n"
   ]
  },
  {
   "cell_type": "code",
   "execution_count": 3,
   "metadata": {},
   "outputs": [],
   "source": [
    "source_path = Path(cfg[\"dataset\"][\"source\"][0][\"path\"]+\"/shards\")\n",
    "file_paths = list(source_path.glob(\"*.parquet\"))[:20]"
   ]
  },
  {
   "cell_type": "code",
   "execution_count": 4,
   "metadata": {},
   "outputs": [
    {
     "data": {
      "text/plain": [
       "[PosixPath('/workspaces/CaiZi/dataset/openwebtext/shards/shard_74.parquet'),\n",
       " PosixPath('/workspaces/CaiZi/dataset/openwebtext/shards/shard_101.parquet'),\n",
       " PosixPath('/workspaces/CaiZi/dataset/openwebtext/shards/shard_18.parquet'),\n",
       " PosixPath('/workspaces/CaiZi/dataset/openwebtext/shards/shard_136.parquet'),\n",
       " PosixPath('/workspaces/CaiZi/dataset/openwebtext/shards/shard_161.parquet'),\n",
       " PosixPath('/workspaces/CaiZi/dataset/openwebtext/shards/shard_100.parquet'),\n",
       " PosixPath('/workspaces/CaiZi/dataset/openwebtext/shards/shard_22.parquet'),\n",
       " PosixPath('/workspaces/CaiZi/dataset/openwebtext/shards/shard_75.parquet'),\n",
       " PosixPath('/workspaces/CaiZi/dataset/openwebtext/shards/shard_61.parquet'),\n",
       " PosixPath('/workspaces/CaiZi/dataset/openwebtext/shards/shard_63.parquet'),\n",
       " PosixPath('/workspaces/CaiZi/dataset/openwebtext/shards/shard_181.parquet'),\n",
       " PosixPath('/workspaces/CaiZi/dataset/openwebtext/shards/shard_5.parquet'),\n",
       " PosixPath('/workspaces/CaiZi/dataset/openwebtext/shards/shard_90.parquet'),\n",
       " PosixPath('/workspaces/CaiZi/dataset/openwebtext/shards/shard_88.parquet'),\n",
       " PosixPath('/workspaces/CaiZi/dataset/openwebtext/shards/shard_85.parquet'),\n",
       " PosixPath('/workspaces/CaiZi/dataset/openwebtext/shards/shard_97.parquet'),\n",
       " PosixPath('/workspaces/CaiZi/dataset/openwebtext/shards/shard_11.parquet'),\n",
       " PosixPath('/workspaces/CaiZi/dataset/openwebtext/shards/shard_4.parquet'),\n",
       " PosixPath('/workspaces/CaiZi/dataset/openwebtext/shards/shard_118.parquet'),\n",
       " PosixPath('/workspaces/CaiZi/dataset/openwebtext/shards/shard_68.parquet')]"
      ]
     },
     "execution_count": 4,
     "metadata": {},
     "output_type": "execute_result"
    }
   ],
   "source": [
    "file_paths"
   ]
  },
  {
   "cell_type": "code",
   "execution_count": 5,
   "metadata": {},
   "outputs": [
    {
     "name": "stderr",
     "output_type": "stream",
     "text": [
      "2024-09-02 05:55:47,326\tINFO worker.py:1598 -- Connecting to existing Ray cluster at address: 192.168.2.113:6379...\n",
      "2024-09-02 05:55:47,330\tINFO worker.py:1774 -- Connected to Ray cluster. View the dashboard at \u001b[1m\u001b[32mhttp://127.0.0.1:8265 \u001b[39m\u001b[22m\n"
     ]
    }
   ],
   "source": [
    "file_path_ds = ray.data.from_items(file_paths)"
   ]
  },
  {
   "cell_type": "code",
   "execution_count": 6,
   "metadata": {},
   "outputs": [
    {
     "name": "stderr",
     "output_type": "stream",
     "text": [
      "2024-09-02 05:55:52,030\tINFO dataset.py:2409 -- Tip: Use `take_batch()` instead of `take() / show()` to return records in pandas or numpy batch format.\n",
      "2024-09-02 05:55:52,032\tINFO streaming_executor.py:108 -- Starting execution of Dataset. Full logs are in /tmp/ray/session_2024-09-02_05-52-44_887309_12138/logs/ray-data\n",
      "2024-09-02 05:55:52,032\tINFO streaming_executor.py:109 -- Execution plan of Dataset: InputDataBuffer[Input] -> LimitOperator[limit=1]\n"
     ]
    },
    {
     "data": {
      "application/vnd.jupyter.widget-view+json": {
       "model_id": "09da9a2f88ab4750ab68f813fe4d3ec6",
       "version_major": 2,
       "version_minor": 0
      },
      "text/plain": [
       "Running 0: 0.00 row [00:00, ? row/s]"
      ]
     },
     "metadata": {},
     "output_type": "display_data"
    },
    {
     "data": {
      "application/vnd.jupyter.widget-view+json": {
       "model_id": "875e467834da42fc9f60f10ce9eccd92",
       "version_major": 2,
       "version_minor": 0
      },
      "text/plain": [
       "- limit=1 1: 0.00 row [00:00, ? row/s]"
      ]
     },
     "metadata": {},
     "output_type": "display_data"
    },
    {
     "data": {
      "text/plain": [
       "[{'item': PosixPath('/workspaces/CaiZi/dataset/openwebtext/shards/shard_74.parquet')}]"
      ]
     },
     "execution_count": 6,
     "metadata": {},
     "output_type": "execute_result"
    }
   ],
   "source": [
    "file_path_ds.take(1)"
   ]
  },
  {
   "cell_type": "code",
   "execution_count": 7,
   "metadata": {},
   "outputs": [],
   "source": [
    "datasource_processor = DatasourceProcessor(source_format=\"parquet\")\n",
    "texts_ds = file_path_ds.flat_map(datasource_processor)"
   ]
  },
  {
   "cell_type": "code",
   "execution_count": 8,
   "metadata": {},
   "outputs": [
    {
     "name": "stderr",
     "output_type": "stream",
     "text": [
      "2024-09-02 05:55:57,809\tINFO streaming_executor.py:108 -- Starting execution of Dataset. Full logs are in /tmp/ray/session_2024-09-02_05-52-44_887309_12138/logs/ray-data\n",
      "2024-09-02 05:55:57,809\tINFO streaming_executor.py:109 -- Execution plan of Dataset: InputDataBuffer[Input] -> TaskPoolMapOperator[FlatMap(DatasourceProcessor)] -> LimitOperator[limit=1]\n"
     ]
    },
    {
     "data": {
      "application/vnd.jupyter.widget-view+json": {
       "model_id": "8301653e788a4129bcbd4527065be0b8",
       "version_major": 2,
       "version_minor": 0
      },
      "text/plain": [
       "Running 0: 0.00 row [00:00, ? row/s]"
      ]
     },
     "metadata": {},
     "output_type": "display_data"
    },
    {
     "data": {
      "application/vnd.jupyter.widget-view+json": {
       "model_id": "d94bf4d81488401eb70f57b6126e8b30",
       "version_major": 2,
       "version_minor": 0
      },
      "text/plain": [
       "- FlatMap(DatasourceProcessor) 1: 0.00 row [00:00, ? row/s]"
      ]
     },
     "metadata": {},
     "output_type": "display_data"
    },
    {
     "data": {
      "application/vnd.jupyter.widget-view+json": {
       "model_id": "33880f978ee34810a21bb1f6fb86cff3",
       "version_major": 2,
       "version_minor": 0
      },
      "text/plain": [
       "- limit=1 2: 0.00 row [00:00, ? row/s]"
      ]
     },
     "metadata": {},
     "output_type": "display_data"
    }
   ],
   "source": [
    "texts_ds.schema()"
   ]
  },
  {
   "cell_type": "code",
   "execution_count": null,
   "metadata": {},
   "outputs": [],
   "source": [
    "train_ratio = cfg[\"ray_data\"][\"train_ratio\"]\n",
    "text_split_processor = TextSplitProcessor(train_ratio=train_ratio)\n",
    "texts_split_ds = texts_ds.map(text_split_processor)\n"
   ]
  },
  {
   "cell_type": "code",
   "execution_count": null,
   "metadata": {},
   "outputs": [],
   "source": [
    "\n",
    "tokenizer_class = TokenProcessor.create(cfg['ray_data']['tokenizer_class']['name'])\n",
    "tokenizer_args =  cfg['ray_data']['tokenizer_class']['args']\n",
    "tokenizer= tokenizer_class(**tokenizer_args)\n",
    "tokens_ds = texts_split_ds.map(tokenizer)"
   ]
  },
  {
   "cell_type": "code",
   "execution_count": null,
   "metadata": {},
   "outputs": [],
   "source": [
    "tokens_ds.take(1)"
   ]
  },
  {
   "cell_type": "code",
   "execution_count": null,
   "metadata": {},
   "outputs": [],
   "source": [
    "block_size = cfg[\"model\"][\"block_size\"]\n",
    "stride = cfg[\"model\"][\"stride\"]\n",
    "chunk_processor = ChunkProcessor(block_size=block_size, stride=stride)\n",
    "chunked_tokens_ds = tokens_ds.map(chunk_processor)"
   ]
  },
  {
   "cell_type": "code",
   "execution_count": null,
   "metadata": {},
   "outputs": [],
   "source": [
    "chunked_tokens_ds.write_parquet(cfg[\"dataset\"][\"chunked_tokens\"])\n",
    "\n",
    "# train_chunked_tokens = []\n",
    "# validate_chunked_tokens = []\n",
    "\n",
    "# for item in chunked_tokens.iter_rows():\n",
    "#     train_chunked_tokens.extend(item[\"train\"])\n",
    "#     validate_chunked_tokens.extend(item[\"validate\"])\n",
    "\n",
    "#self.train_chunked_tokens = ray.data.from_items(train_chunked_tokens)\n",
    "#self.validate_chunked_tokens = ray.data.from_items(validate_chunked_tokens)\n"
   ]
  }
 ],
 "metadata": {
  "kernelspec": {
   "display_name": "base",
   "language": "python",
   "name": "python3"
  },
  "language_info": {
   "codemirror_mode": {
    "name": "ipython",
    "version": 3
   },
   "file_extension": ".py",
   "mimetype": "text/x-python",
   "name": "python",
   "nbconvert_exporter": "python",
   "pygments_lexer": "ipython3",
   "version": "3.11.9"
  }
 },
 "nbformat": 4,
 "nbformat_minor": 2
}
