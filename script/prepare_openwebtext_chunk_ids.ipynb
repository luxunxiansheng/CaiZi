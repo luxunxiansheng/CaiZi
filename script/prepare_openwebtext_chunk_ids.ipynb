{
 "cells": [
  {
   "cell_type": "code",
   "execution_count": 1,
   "metadata": {},
   "outputs": [],
   "source": [
    "import os\n",
    "project_root = os.path.dirname(os.getcwd())\n",
    "import sys\n",
    "# Add the directory to the Python path\n",
    "sys.path.append(f\"{project_root}/src\")"
   ]
  },
  {
   "cell_type": "code",
   "execution_count": 2,
   "metadata": {},
   "outputs": [],
   "source": [
    "from pathlib import Path\n",
    "\n",
    "import ray\n",
    "from datasets import load_from_disk,load_dataset\n",
    "\n",
    "from config import gpt2_cfg as cfg \n",
    "from datasource_processor import DatasourceProcessor\n",
    "from text_split_processor import TextSplitProcessor\n",
    "from chunk_processor import ChunkProcessor\n",
    "from token_processor import TokenProcessor\n"
   ]
  },
  {
   "cell_type": "code",
   "execution_count": 3,
   "metadata": {},
   "outputs": [],
   "source": [
    "source_path = Path(cfg[\"dataset\"][\"source\"][0][\"path\"])\n",
    "file_paths = list(source_path.glob(\"*.parquet\"))[:20]"
   ]
  },
  {
   "cell_type": "code",
   "execution_count": 4,
   "metadata": {},
   "outputs": [
    {
     "name": "stderr",
     "output_type": "stream",
     "text": [
      "2024-09-02 07:49:33,942\tINFO worker.py:1598 -- Connecting to existing Ray cluster at address: 192.168.2.113:6379...\n",
      "2024-09-02 07:49:33,946\tINFO worker.py:1774 -- Connected to Ray cluster. View the dashboard at \u001b[1m\u001b[32mhttp://127.0.0.1:8265 \u001b[39m\u001b[22m\n"
     ]
    }
   ],
   "source": [
    "file_path_ds = ray.data.from_items(file_paths)"
   ]
  },
  {
   "cell_type": "code",
   "execution_count": 5,
   "metadata": {},
   "outputs": [],
   "source": [
    "datasource_processor = DatasourceProcessor(source_format=\"parquet\")\n",
    "texts_ds = file_path_ds.map(datasource_processor,\n",
    "                            num_cpus=16,\n",
    "                            concurrency=16)"
   ]
  },
  {
   "cell_type": "code",
   "execution_count": 6,
   "metadata": {},
   "outputs": [],
   "source": [
    "train_ratio = cfg[\"ray_data\"][\"train_ratio\"]\n",
    "text_split_processor = TextSplitProcessor(train_ratio=train_ratio)\n",
    "texts_split_ds = texts_ds.map(text_split_processor,\n",
    "                              num_cpus=4,\n",
    "                              concurrency=4)\n"
   ]
  },
  {
   "cell_type": "code",
   "execution_count": 7,
   "metadata": {},
   "outputs": [],
   "source": [
    "\n",
    "tokenizer_class = TokenProcessor.create(cfg['ray_data']['tokenizer_class']['name'])\n",
    "tokenizer_args =  cfg['ray_data']['tokenizer_class']['args']\n",
    "tokenizer= tokenizer_class(**tokenizer_args)\n",
    "tokens_ds = texts_split_ds.map(tokenizer,\n",
    "                               num_cpus=4,\n",
    "                               concurrency=4)"
   ]
  },
  {
   "cell_type": "code",
   "execution_count": 8,
   "metadata": {},
   "outputs": [],
   "source": [
    "block_size = cfg[\"model\"][\"block_size\"]\n",
    "stride = cfg[\"model\"][\"stride\"]\n",
    "chunk_processor = ChunkProcessor(block_size=block_size, stride=stride)\n",
    "chunked_tokens_ds = tokens_ds.map(chunk_processor,\n",
    "                                  num_cpus=8,\n",
    "                                  concurrency=8)"
   ]
  },
  {
   "cell_type": "code",
   "execution_count": 9,
   "metadata": {},
   "outputs": [
    {
     "name": "stderr",
     "output_type": "stream",
     "text": [
      "2024-09-02 07:49:34,602\tINFO streaming_executor.py:108 -- Starting execution of Dataset. Full logs are in /tmp/ray/session_2024-09-02_07-07-11_852929_41461/logs/ray-data\n",
      "2024-09-02 07:49:34,603\tINFO streaming_executor.py:109 -- Execution plan of Dataset: InputDataBuffer[Input] -> TaskPoolMapOperator[Map(DatasourceProcessor)] -> TaskPoolMapOperator[Map(TextSplitProcessor)->Map(TikTokenizer)] -> TaskPoolMapOperator[Map(ChunkProcessor)] -> TaskPoolMapOperator[Write]\n"
     ]
    },
    {
     "data": {
      "application/vnd.jupyter.widget-view+json": {
       "model_id": "ce6a902432b444318408ee6e8f5b9362",
       "version_major": 2,
       "version_minor": 0
      },
      "text/plain": [
       "Running 0: 0.00 row [00:00, ? row/s]"
      ]
     },
     "metadata": {},
     "output_type": "display_data"
    },
    {
     "data": {
      "application/vnd.jupyter.widget-view+json": {
       "model_id": "68862d1c7c3f4764a2d0382bb6dfa10d",
       "version_major": 2,
       "version_minor": 0
      },
      "text/plain": [
       "- Map(DatasourceProcessor) 1: 0.00 row [00:00, ? row/s]"
      ]
     },
     "metadata": {},
     "output_type": "display_data"
    },
    {
     "data": {
      "application/vnd.jupyter.widget-view+json": {
       "model_id": "7d237e5c2d1e47c3abbaeeb24b13f44a",
       "version_major": 2,
       "version_minor": 0
      },
      "text/plain": [
       "- Map(TextSplitProcessor)->Map(TikTokenizer) 2: 0.00 row [00:00, ? row/s]"
      ]
     },
     "metadata": {},
     "output_type": "display_data"
    },
    {
     "data": {
      "application/vnd.jupyter.widget-view+json": {
       "model_id": "0c1a8483ce0c4382abf52a451389da58",
       "version_major": 2,
       "version_minor": 0
      },
      "text/plain": [
       "- Map(ChunkProcessor) 3: 0.00 row [00:00, ? row/s]"
      ]
     },
     "metadata": {},
     "output_type": "display_data"
    },
    {
     "data": {
      "application/vnd.jupyter.widget-view+json": {
       "model_id": "4eb6d3e7c226402591ccab067145ec0d",
       "version_major": 2,
       "version_minor": 0
      },
      "text/plain": [
       "- Write 4: 0.00 row [00:00, ? row/s]"
      ]
     },
     "metadata": {},
     "output_type": "display_data"
    }
   ],
   "source": [
    "target_path = Path(cfg[\"dataset\"][\"source\"][0][\"chunked_tokens\"])\n",
    "# remove the shards directory if it exists\n",
    "if target_path.exists():\n",
    "    for file in target_path.iterdir():\n",
    "        file.unlink()\n",
    "    target_path.rmdir()\n",
    "\n",
    "chunked_tokens_ds.write_parquet(target_path)\n",
    "\n",
    "# train_chunked_tokens = []\n",
    "# validate_chunked_tokens = []\n",
    "\n",
    "# for item in chunked_tokens.iter_rows():\n",
    "#     train_chunked_tokens.extend(item[\"train\"])\n",
    "#     validate_chunked_tokens.extend(item[\"validate\"])\n",
    "\n",
    "#self.train_chunked_tokens = ray.data.from_items(train_chunked_tokens)\n",
    "#self.validate_chunked_tokens = ray.data.from_items(validate_chunked_tokens)\n"
   ]
  }
 ],
 "metadata": {
  "kernelspec": {
   "display_name": "base",
   "language": "python",
   "name": "python3"
  },
  "language_info": {
   "codemirror_mode": {
    "name": "ipython",
    "version": 3
   },
   "file_extension": ".py",
   "mimetype": "text/x-python",
   "name": "python",
   "nbconvert_exporter": "python",
   "pygments_lexer": "ipython3",
   "version": "3.11.9"
  }
 },
 "nbformat": 4,
 "nbformat_minor": 2
}
