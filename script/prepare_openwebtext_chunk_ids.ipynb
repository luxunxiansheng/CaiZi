{
 "cells": [
  {
   "cell_type": "code",
   "execution_count": null,
   "metadata": {},
   "outputs": [],
   "source": [
    "import os\n",
    "project_root = os.path.dirname(os.getcwd())\n",
    "import sys\n",
    "# Add the directory to the Python path\n",
    "sys.path.append(f\"{project_root}/src\")"
   ]
  },
  {
   "cell_type": "code",
   "execution_count": null,
   "metadata": {},
   "outputs": [],
   "source": [
    "from pathlib import Path\n",
    "import shutil\n",
    "\n",
    "import ray\n",
    "\n",
    "from config import gpt2_cfg as cfg \n",
    "from preprocessor.datasource_processor import DatasourceProcessor\n",
    "from preprocessor.text_split_processor import TextSplitProcessor\n",
    "from preprocessor.chunk_processor import ChunkProcessor\n",
    "from preprocessor.token_processor import TokenProcessor\n"
   ]
  },
  {
   "cell_type": "code",
   "execution_count": null,
   "metadata": {},
   "outputs": [],
   "source": [
    "source_path = Path(cfg[\"dataset\"][\"path\"])\n",
    "file_paths = list(source_path.glob(\"*.parquet\"))[:20]"
   ]
  },
  {
   "cell_type": "code",
   "execution_count": null,
   "metadata": {},
   "outputs": [],
   "source": [
    "file_path_ds = ray.data.from_items(file_paths)"
   ]
  },
  {
   "cell_type": "code",
   "execution_count": null,
   "metadata": {},
   "outputs": [],
   "source": [
    "datasource_processor = DatasourceProcessor(source_format=\"parquet\")\n",
    "texts_ds = file_path_ds.map(datasource_processor,\n",
    "                            num_cpus=16,\n",
    "                            concurrency=16)"
   ]
  },
  {
   "cell_type": "code",
   "execution_count": null,
   "metadata": {},
   "outputs": [],
   "source": [
    "train_ratio = cfg[\"ray_data\"][\"train_ratio\"]\n",
    "text_split_processor = TextSplitProcessor(train_ratio=train_ratio)\n",
    "texts_split_ds = texts_ds.map(text_split_processor,\n",
    "                              num_cpus=4,\n",
    "                              concurrency=4)\n"
   ]
  },
  {
   "cell_type": "code",
   "execution_count": null,
   "metadata": {},
   "outputs": [],
   "source": [
    "\n",
    "tokenizer_class = TokenProcessor.create(cfg['ray_data']['tokenizer_class']['name'])\n",
    "tokenizer_args =  cfg['ray_data']['tokenizer_class']['args']\n",
    "tokenizer= tokenizer_class(**tokenizer_args)\n",
    "tokens_ds = texts_split_ds.map(tokenizer,\n",
    "                               num_cpus=4,\n",
    "                               concurrency=4)"
   ]
  },
  {
   "cell_type": "code",
   "execution_count": null,
   "metadata": {},
   "outputs": [],
   "source": [
    "block_size = cfg[\"model\"][\"block_size\"]\n",
    "stride = cfg[\"model\"][\"stride\"]\n",
    "chunk_processor = ChunkProcessor(block_size=block_size, stride=stride)\n",
    "chunked_tokens_ds = tokens_ds.map(chunk_processor,\n",
    "                                  num_cpus=8,\n",
    "                                  concurrency=8)"
   ]
  },
  {
   "cell_type": "code",
   "execution_count": null,
   "metadata": {},
   "outputs": [],
   "source": [
    "chunked_tokens_ds.schema()"
   ]
  },
  {
   "cell_type": "code",
   "execution_count": null,
   "metadata": {},
   "outputs": [],
   "source": [
    "target_path = Path(cfg[\"dataset\"][\"chunked_tokens\"])\n",
    "# remove the target path and its contents recursively\n",
    "# Check if the directory exists before trying to remove it\n",
    "if os.path.exists(target_path):\n",
    "    shutil.rmtree(target_path)\n",
    "    print(f\"The directory {target_path} has been removed.\")\n",
    "else:\n",
    "    print(f\"The directory {target_path} does not exist.\")\n"
   ]
  },
  {
   "cell_type": "code",
   "execution_count": null,
   "metadata": {},
   "outputs": [],
   "source": [
    "chunked_tokens_ds.write_parquet(target_path.joinpath(\"validate\"))\n",
    "#self.train_chunked_tokens = ray.data.from_items(train_chunked_tokens)\n",
    "#self.validate_chunked_tokens = ray.data.from_items(validate_chunked_tokens)\n"
   ]
  }
 ],
 "metadata": {
  "kernelspec": {
   "display_name": "base",
   "language": "python",
   "name": "python3"
  },
  "language_info": {
   "codemirror_mode": {
    "name": "ipython",
    "version": 3
   },
   "file_extension": ".py",
   "mimetype": "text/x-python",
   "name": "python",
   "nbconvert_exporter": "python",
   "pygments_lexer": "ipython3",
   "version": "3.11.9"
  }
 },
 "nbformat": 4,
 "nbformat_minor": 2
}
